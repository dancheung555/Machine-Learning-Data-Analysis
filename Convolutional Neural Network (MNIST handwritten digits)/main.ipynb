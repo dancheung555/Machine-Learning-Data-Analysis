{
 "cells": [
  {
   "cell_type": "markdown",
   "id": "724c4f7c",
   "metadata": {},
   "source": [
    "# Implementing a Convolutional Neural Network and training it with the MNIST handwriting dataset.\n",
    "\n",
    "I will try to implement this using PyTorch, and if not, I will find some way to implement the CNN."
   ]
  },
  {
   "cell_type": "markdown",
   "id": "4c0d7ff6",
   "metadata": {},
   "source": [
    "### Libraries needed"
   ]
  },
  {
   "cell_type": "code",
   "execution_count": 1,
   "id": "dae2dcc7",
   "metadata": {},
   "outputs": [],
   "source": [
    "import numpy as np\n",
    "import pandas as pd\n",
    "import matplotlib.pyplot as plt\n",
    "\n",
    "import torch\n",
    "import torch.nn.functional as F\n",
    "from torch import optim\n",
    "from torch import nn\n",
    "\n",
    "\n",
    "from torch.utils.data import Dataset, DataLoader\n",
    "from torchvision import datasets, transforms\n",
    "from torchvision.transforms import ToTensor"
   ]
  },
  {
   "cell_type": "code",
   "execution_count": 2,
   "id": "5efc46ba",
   "metadata": {},
   "outputs": [
    {
     "name": "stdout",
     "output_type": "stream",
     "text": [
      "Using cpu device\n"
     ]
    }
   ],
   "source": [
    "import os\n",
    "device = torch.accelerator.current_accelerator().type if torch.accelerator.is_available() else \"cpu\"\n",
    "print(f\"Using {device} device\")"
   ]
  },
  {
   "cell_type": "markdown",
   "id": "33e2c489",
   "metadata": {},
   "source": [
    "### Data"
   ]
  },
  {
   "cell_type": "code",
   "execution_count": 8,
   "id": "e2baf4a8",
   "metadata": {},
   "outputs": [],
   "source": [
    "transform = transforms.Compose([\n",
    "    transforms.ToTensor(),\n",
    "    transforms.Normalize((0.1307,), (0.3081,))\n",
    "])\n",
    "\n",
    "training_data = datasets.MNIST(root=\"data\", train=True, download=False, transform=transform)\n",
    "test_data = datasets.MNIST(root=\"data\", train=False, download=False,transform=transform)\n",
    "\n",
    "train_dataloader = DataLoader(training_data, batch_size=64)\n",
    "test_dataloader = DataLoader(test_data, batch_size=64)"
   ]
  },
  {
   "cell_type": "code",
   "execution_count": 9,
   "id": "fce8a32c",
   "metadata": {},
   "outputs": [
    {
     "data": {
      "image/png": "[encoded data removed]",
      "text/plain": [
       "<Figure size 800x800 with 9 Axes>"
      ]
     },
     "metadata": {},
     "output_type": "display_data"
    },
    {
     "name": "stdout",
     "output_type": "stream",
     "text": [
      "Feature batch shape: torch.Size([64, 1, 28, 28])\n",
      "Labels batch shape: torch.Size([64])\n"
     ]
    },
    {
     "data": {
      "image/png": "[encoded data removed]",
      "text/plain": [
       "<Figure size 640x480 with 1 Axes>"
      ]
     },
     "metadata": {},
     "output_type": "display_data"
    },
    {
     "name": "stdout",
     "output_type": "stream",
     "text": [
      "Label: 5\n"
     ]
    }
   ],
   "source": [
    "figure = plt.figure(figsize=(8, 8))\n",
    "cols, rows = 3, 3\n",
    "for i in range(1, cols * rows + 1):\n",
    "    sample_idx = torch.randint(len(training_data), size=(1,)).item()\n",
    "    img, label = training_data[sample_idx]\n",
    "    figure.add_subplot(rows, cols, i)\n",
    "    plt.title(label)\n",
    "    plt.axis(\"off\")\n",
    "    plt.imshow(img.squeeze(), cmap=\"gray\")\n",
    "plt.show()\n",
    "\n",
    "train_features, train_labels = next(iter(train_dataloader))\n",
    "print(f\"Feature batch shape: {train_features.size()}\")\n",
    "print(f\"Labels batch shape: {train_labels.size()}\")\n",
    "img = train_features[0].squeeze()\n",
    "label = train_labels[0]\n",
    "plt.imshow(img, cmap=\"gray\")\n",
    "plt.show()\n",
    "print(f\"Label: {label}\")"
   ]
  },
  {
   "cell_type": "markdown",
   "id": "741ab361",
   "metadata": {},
   "source": [
    "### Model"
   ]
  },
  {
   "cell_type": "code",
   "execution_count": 39,
   "id": "0e548268",
   "metadata": {},
   "outputs": [
    {
     "name": "stdout",
     "output_type": "stream",
     "text": [
      "NeuralNetwork(\n",
      "  (conv1): Conv2d(1, 32, kernel_size=(5, 5), stride=(1, 1))\n",
      "  (pool): MaxPool2d(kernel_size=2, stride=2, padding=0, dilation=1, ceil_mode=False)\n",
      "  (conv2): Conv2d(32, 32, kernel_size=(5, 5), stride=(1, 1))\n",
      "  (conv3): Conv2d(32, 64, kernel_size=(3, 3), stride=(1, 1))\n",
      "  (fc1): Linear(in_features=64, out_features=256, bias=True)\n",
      "  (fc2): Linear(in_features=256, out_features=10, bias=True)\n",
      ")\n"
     ]
    }
   ],
   "source": [
    "class NeuralNetwork(nn.Module):\n",
    "    def __init__(self):\n",
    "        super(NeuralNetwork, self).__init__()\n",
    "        self.conv1 = nn.Conv2d(1, 32, kernel_size=5)\n",
    "        self.pool = nn.MaxPool2d(2,2)\n",
    "        self.conv2 = nn.Conv2d(32, 32, kernel_size=5)\n",
    "        self.conv3 = nn.Conv2d(32, 64, kernel_size=3)\n",
    "        self.fc1 = nn.Linear(64, 256)\n",
    "        self.fc2 = nn.Linear(256, 10)\n",
    "\n",
    "    def forward(self, x):\n",
    "        x = F.relu(self.conv1(x))\n",
    "        x = self.pool(x)  # 28x28 -> 14x14\n",
    "        x = F.relu(self.conv2(x))\n",
    "        x = self.pool(x)  # 14x14 -> 7x7\n",
    "        x = F.relu(self.conv3(x))\n",
    "        x = self.pool(x)  # 7x7 -> 3x3\n",
    "        x = F.dropout(x, p=0.5, training=self.training)\n",
    "        x = x.view(x.size(0), -1)\n",
    "        x = F.relu(self.fc1(x))\n",
    "        x = F.dropout(x, training=self.training)\n",
    "        x = self.fc2(x)\n",
    "        return F.log_softmax(x, dim=1)\n",
    "model = NeuralNetwork()\n",
    "print(model)"
   ]
  },
  {
   "cell_type": "markdown",
   "id": "ff61db66",
   "metadata": {},
   "source": [
    "### Train and Evaluation classes"
   ]
  },
  {
   "cell_type": "code",
   "execution_count": 40,
   "id": "e1c0f804",
   "metadata": {},
   "outputs": [],
   "source": [
    "def train_loop(dataloader, model, loss_fn, optimizer, batch_size = 64):\n",
    "    size = len(dataloader.dataset)\n",
    "    # Set the model to training mode - important for batch normalization and dropout layers\n",
    "    # Unnecessary in this situation but added for best practices\n",
    "    model.train()\n",
    "    for batch, (X, y) in enumerate(dataloader):\n",
    "        # Compute prediction and loss\n",
    "        pred = model(X)\n",
    "        loss = loss_fn(pred, y)\n",
    "\n",
    "        # Backpropagation\n",
    "        loss.backward()\n",
    "        optimizer.step()\n",
    "        optimizer.zero_grad()\n",
    "\n",
    "        if batch % 100 == 0:\n",
    "            loss, current = loss.item(), batch * batch_size + len(X)\n",
    "            print(f\"loss: {loss:>7f}  [{current:>5d}/{size:>5d}]\")\n",
    "\n",
    "\n",
    "def test_loop(dataloader, model, loss_fn, batch_size = 64):\n",
    "    # Set the model to evaluation mode - important for batch normalization and dropout layers\n",
    "    # Unnecessary in this situation but added for best practices\n",
    "    model.eval()\n",
    "    size = len(dataloader.dataset)\n",
    "    num_batches = len(dataloader)\n",
    "    test_loss, correct = 0, 0\n",
    "\n",
    "    # Evaluating the model with torch.no_grad() ensures that no gradients are computed during test mode\n",
    "    # also serves to reduce unnecessary gradient computations and memory usage for tensors with requires_grad=True\n",
    "    with torch.no_grad():\n",
    "        for X, y in dataloader:\n",
    "            pred = model(X)\n",
    "            test_loss += loss_fn(pred, y).item()\n",
    "            correct += (pred.argmax(1) == y).type(torch.float).sum().item()\n",
    "\n",
    "    test_loss /= num_batches\n",
    "    correct /= size\n",
    "    print(f\"Test Error: \\n Accuracy: {(100*correct):>0.3f}%, Avg loss: {test_loss:>8f} \\n\")"
   ]
  },
  {
   "cell_type": "code",
   "execution_count": 41,
   "id": "dc31cef9",
   "metadata": {},
   "outputs": [
    {
     "name": "stdout",
     "output_type": "stream",
     "text": [
      "Epoch 1\n",
      "-------------------------------\n",
      "loss: 2.322304  [   64/60000]\n",
      "loss: 0.736407  [ 6464/60000]\n",
      "loss: 0.310694  [12864/60000]\n",
      "loss: 0.346138  [19264/60000]\n",
      "loss: 0.300912  [25664/60000]\n",
      "loss: 0.301801  [32064/60000]\n",
      "loss: 0.122561  [38464/60000]\n",
      "loss: 0.214785  [44864/60000]\n",
      "loss: 0.383546  [51264/60000]\n",
      "loss: 0.248352  [57664/60000]\n",
      "Test Error: \n",
      " Accuracy: 97.720%, Avg loss: 0.077650 \n",
      "\n",
      "Epoch 2\n",
      "-------------------------------\n",
      "loss: 0.172412  [   64/60000]\n",
      "loss: 0.207199  [ 6464/60000]\n",
      "loss: 0.134549  [12864/60000]\n",
      "loss: 0.219399  [19264/60000]\n",
      "loss: 0.161720  [25664/60000]\n",
      "loss: 0.198127  [32064/60000]\n",
      "loss: 0.116810  [38464/60000]\n",
      "loss: 0.124697  [44864/60000]\n",
      "loss: 0.157893  [51264/60000]\n",
      "loss: 0.187126  [57664/60000]\n",
      "Test Error: \n",
      " Accuracy: 98.800%, Avg loss: 0.044415 \n",
      "\n",
      "Epoch 3\n",
      "-------------------------------\n",
      "loss: 0.132009  [   64/60000]\n",
      "loss: 0.147862  [ 6464/60000]\n",
      "loss: 0.101280  [12864/60000]\n",
      "loss: 0.220767  [19264/60000]\n",
      "loss: 0.063203  [25664/60000]\n",
      "loss: 0.095387  [32064/60000]\n",
      "loss: 0.085301  [38464/60000]\n",
      "loss: 0.086715  [44864/60000]\n",
      "loss: 0.221719  [51264/60000]\n",
      "loss: 0.248353  [57664/60000]\n",
      "Test Error: \n",
      " Accuracy: 98.950%, Avg loss: 0.039444 \n",
      "\n",
      "Epoch 4\n",
      "-------------------------------\n",
      "loss: 0.041607  [   64/60000]\n",
      "loss: 0.214470  [ 6464/60000]\n",
      "loss: 0.038298  [12864/60000]\n",
      "loss: 0.168753  [19264/60000]\n",
      "loss: 0.133197  [25664/60000]\n",
      "loss: 0.065340  [32064/60000]\n",
      "loss: 0.061067  [38464/60000]\n",
      "loss: 0.116464  [44864/60000]\n",
      "loss: 0.299860  [51264/60000]\n",
      "loss: 0.091172  [57664/60000]\n",
      "Test Error: \n",
      " Accuracy: 98.900%, Avg loss: 0.039958 \n",
      "\n",
      "Epoch 5\n",
      "-------------------------------\n",
      "loss: 0.038090  [   64/60000]\n",
      "loss: 0.179703  [ 6464/60000]\n",
      "loss: 0.090262  [12864/60000]\n",
      "loss: 0.077519  [19264/60000]\n",
      "loss: 0.028872  [25664/60000]\n",
      "loss: 0.197097  [32064/60000]\n",
      "loss: 0.061230  [38464/60000]\n",
      "loss: 0.124434  [44864/60000]\n",
      "loss: 0.080752  [51264/60000]\n",
      "loss: 0.057754  [57664/60000]\n",
      "Test Error: \n",
      " Accuracy: 98.920%, Avg loss: 0.037658 \n",
      "\n",
      "Epoch 6\n",
      "-------------------------------\n",
      "loss: 0.020299  [   64/60000]\n",
      "loss: 0.366152  [ 6464/60000]\n",
      "loss: 0.039132  [12864/60000]\n",
      "loss: 0.035419  [19264/60000]\n",
      "loss: 0.088623  [25664/60000]\n",
      "loss: 0.166002  [32064/60000]\n",
      "loss: 0.071069  [38464/60000]\n",
      "loss: 0.078471  [44864/60000]\n",
      "loss: 0.221548  [51264/60000]\n",
      "loss: 0.078395  [57664/60000]\n",
      "Test Error: \n",
      " Accuracy: 99.140%, Avg loss: 0.031283 \n",
      "\n",
      "Epoch 7\n",
      "-------------------------------\n",
      "loss: 0.009339  [   64/60000]\n",
      "loss: 0.187750  [ 6464/60000]\n",
      "loss: 0.014442  [12864/60000]\n",
      "loss: 0.075233  [19264/60000]\n",
      "loss: 0.105812  [25664/60000]\n",
      "loss: 0.062271  [32064/60000]\n",
      "loss: 0.068861  [38464/60000]\n",
      "loss: 0.041290  [44864/60000]\n",
      "loss: 0.232350  [51264/60000]\n",
      "loss: 0.061173  [57664/60000]\n",
      "Test Error: \n",
      " Accuracy: 99.190%, Avg loss: 0.027432 \n",
      "\n",
      "Epoch 8\n",
      "-------------------------------\n",
      "loss: 0.015213  [   64/60000]\n",
      "loss: 0.221049  [ 6464/60000]\n",
      "loss: 0.024677  [12864/60000]\n",
      "loss: 0.198075  [19264/60000]\n",
      "loss: 0.027364  [25664/60000]\n",
      "loss: 0.033111  [32064/60000]\n",
      "loss: 0.066713  [38464/60000]\n",
      "loss: 0.014603  [44864/60000]\n",
      "loss: 0.180041  [51264/60000]\n",
      "loss: 0.153075  [57664/60000]\n",
      "Test Error: \n",
      " Accuracy: 99.170%, Avg loss: 0.029009 \n",
      "\n",
      "Epoch 9\n",
      "-------------------------------\n",
      "loss: 0.015811  [   64/60000]\n",
      "loss: 0.230105  [ 6464/60000]\n",
      "loss: 0.054761  [12864/60000]\n",
      "loss: 0.123038  [19264/60000]\n",
      "loss: 0.011522  [25664/60000]\n",
      "loss: 0.033825  [32064/60000]\n",
      "loss: 0.057795  [38464/60000]\n",
      "loss: 0.112732  [44864/60000]\n",
      "loss: 0.049930  [51264/60000]\n",
      "loss: 0.044152  [57664/60000]\n",
      "Test Error: \n",
      " Accuracy: 99.240%, Avg loss: 0.023045 \n",
      "\n",
      "Epoch 10\n",
      "-------------------------------\n",
      "loss: 0.013933  [   64/60000]\n",
      "loss: 0.110959  [ 6464/60000]\n",
      "loss: 0.060162  [12864/60000]\n",
      "loss: 0.008576  [19264/60000]\n",
      "loss: 0.060433  [25664/60000]\n",
      "loss: 0.066666  [32064/60000]\n",
      "loss: 0.102730  [38464/60000]\n",
      "loss: 0.041784  [44864/60000]\n",
      "loss: 0.068216  [51264/60000]\n",
      "loss: 0.001920  [57664/60000]\n",
      "Test Error: \n",
      " Accuracy: 99.190%, Avg loss: 0.025839 \n",
      "\n",
      "Done!\n"
     ]
    }
   ],
   "source": [
    "loss_fn = nn.CrossEntropyLoss()\n",
    "optimizer = torch.optim.Adam(model.parameters(), lr=1e-3)\n",
    "\n",
    "epochs = 10\n",
    "for t in range(epochs):\n",
    "    print(f\"Epoch {t+1}\\n-------------------------------\")\n",
    "    train_loop(train_dataloader, model, loss_fn, optimizer, batch_size=64)\n",
    "    test_loop(test_dataloader, model, loss_fn, batch_size=64)\n",
    "print(\"Done!\")"
   ]
  }
 ],
 "metadata": {
  "kernelspec": {
   "display_name": "base",
   "language": "python",
   "name": "python3"
  },
  "language_info": {
   "codemirror_mode": {
    "name": "ipython",
    "version": 3
   },
   "file_extension": ".py",
   "mimetype": "text/x-python",
   "name": "python",
   "nbconvert_exporter": "python",
   "pygments_lexer": "ipython3",
   "version": "3.12.7"
  }
 },
 "nbformat": 4,
 "nbformat_minor": 5
}
