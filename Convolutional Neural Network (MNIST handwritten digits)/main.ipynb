{
 "cells": [
  {
   "cell_type": "markdown",
   "id": "724c4f7c",
   "metadata": {},
   "source": [
    "# Implementing a Convolutional Neural Network and training it with the MNIST handwriting dataset.\n",
    "\n",
    "I will try to implement this using PyTorch, and if not, I will find some way to implement the CNN."
   ]
  },
  {
   "cell_type": "markdown",
   "id": "4c0d7ff6",
   "metadata": {},
   "source": [
    "### Libraries needed"
   ]
  },
  {
   "cell_type": "code",
   "execution_count": 23,
   "id": "dae2dcc7",
   "metadata": {},
   "outputs": [],
   "source": [
    "import numpy as np\n",
    "import pandas as pd\n",
    "import matplotlib.pyplot as plt\n",
    "\n",
    "import torch\n",
    "from torch import optim\n",
    "from torch import nn"
   ]
  }
 ],
 "metadata": {
  "kernelspec": {
   "display_name": "base",
   "language": "python",
   "name": "python3"
  },
  "language_info": {
   "codemirror_mode": {
    "name": "ipython",
    "version": 3
   },
   "file_extension": ".py",
   "mimetype": "text/x-python",
   "name": "python",
   "nbconvert_exporter": "python",
   "pygments_lexer": "ipython3",
   "version": "3.12.7"
  }
 },
 "nbformat": 4,
 "nbformat_minor": 5
}
